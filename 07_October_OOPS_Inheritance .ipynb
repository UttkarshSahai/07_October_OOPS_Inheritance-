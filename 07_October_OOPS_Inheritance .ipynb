{
 "cells": [
  {
   "cell_type": "raw",
   "id": "394cbde8",
   "metadata": {},
   "source": [
    "Problem 1: Bank Account Create a class representing a bank account with attributes like account number, account holder name, and balance. Implement methods to deposit and withdraw money from the account."
   ]
  },
  {
   "cell_type": "code",
   "execution_count": 1,
   "id": "1af03b57",
   "metadata": {},
   "outputs": [],
   "source": [
    "class BankAccount:\n",
    "    \n",
    "    def __init__(self,balance,account_number,account_holder_name):\n",
    "        self.balance=balance\n",
    "        self.account_number=account_number\n",
    "        self.account_holder_name=account_holder_name\n",
    "        \n",
    "    def deposit_cash(self,amount):\n",
    "        if amount>0:\n",
    "            self.balance=self.balance+amount\n",
    "            return f\"The amount to be depositedd in the account is {self.balance}\"\n",
    "        \n",
    "        else:\n",
    "            return f\"Invalid Amount {amout}\"\n",
    "        \n",
    "    def withdraw_cash(self,amount):\n",
    "        if amount>0:\n",
    "            self.balance=self.balance-amount\n",
    "            return f\"The remaining amount into the bank in {self.balance}\"\n",
    "        else:\n",
    "            return f\"Enter Invalid amount {amount}\""
   ]
  },
  {
   "cell_type": "code",
   "execution_count": 2,
   "id": "cb14d9cb",
   "metadata": {},
   "outputs": [],
   "source": [
    "details=BankAccount(25000,123456789,\"Uttkarsh Sahai\")"
   ]
  },
  {
   "cell_type": "code",
   "execution_count": 3,
   "id": "398b2924",
   "metadata": {},
   "outputs": [
    {
     "data": {
      "text/plain": [
       "'The amount to be depositedd in the account is 25002'"
      ]
     },
     "execution_count": 3,
     "metadata": {},
     "output_type": "execute_result"
    }
   ],
   "source": [
    "details.deposit_cash(2)"
   ]
  },
  {
   "cell_type": "code",
   "execution_count": 4,
   "id": "4031a51c",
   "metadata": {},
   "outputs": [
    {
     "data": {
      "text/plain": [
       "'The remaining amount into the bank in 23002'"
      ]
     },
     "execution_count": 4,
     "metadata": {},
     "output_type": "execute_result"
    }
   ],
   "source": [
    "details.withdraw_cash(2000)"
   ]
  },
  {
   "cell_type": "raw",
   "id": "545be412",
   "metadata": {},
   "source": [
    "Problem 2: Employee Management Create a class representing an employee with attributes like employee ID, name, and salary. Implement methods to calculate the yearly bonus and display employee details."
   ]
  },
  {
   "cell_type": "code",
   "execution_count": 5,
   "id": "a6dcf625",
   "metadata": {},
   "outputs": [],
   "source": [
    "class employee_details:\n",
    "    \n",
    "    def __init__(self,employee_id,employee_name,salary):\n",
    "        self.employee_id=employee_id\n",
    "        self.employee_name=employee_name\n",
    "        self.salary=salary\n",
    "    \n",
    "    def yearly_bonus(self,bonus):\n",
    "        print(f\"Employee Details: Employee Id is:{self.employee_id}  ,Employee Name is:{self.employee_name},Employee Name is:{self.salary}\")\n",
    "        print(\"Bonus to be credit into the account is:\",bonus)\n",
    "        bonus=self.salary+bonus\n",
    "        return f\"Account Balance:{bonus}\""
   ]
  },
  {
   "cell_type": "code",
   "execution_count": 6,
   "id": "4c1e3947",
   "metadata": {},
   "outputs": [],
   "source": [
    "employee=employee_details(235698,\"Rahul\",250000)"
   ]
  },
  {
   "cell_type": "code",
   "execution_count": 7,
   "id": "e1d6c01a",
   "metadata": {},
   "outputs": [
    {
     "name": "stdout",
     "output_type": "stream",
     "text": [
      "Employee Details: Employee Id is:235698  ,Employee Name is:Rahul,Employee Name is:250000\n",
      "Bonus to be credit into the account is: 25000\n"
     ]
    },
    {
     "data": {
      "text/plain": [
       "'Account Balance:275000'"
      ]
     },
     "execution_count": 7,
     "metadata": {},
     "output_type": "execute_result"
    }
   ],
   "source": [
    "employee.yearly_bonus(25000)"
   ]
  },
  {
   "cell_type": "raw",
   "id": "ca99e518",
   "metadata": {},
   "source": [
    "Problem 3: Vehicle Rental Create a class representing a vehicle rental system. Implement methods to rent a vehicle, return a vehicle, and display available vehicles."
   ]
  },
  {
   "cell_type": "code",
   "execution_count": 8,
   "id": "212ba09c",
   "metadata": {},
   "outputs": [
    {
     "name": "stdout",
     "output_type": "stream",
     "text": [
      "Vehicle Available for rent is:'SUV','Sedan','Bike','Luxary'\n"
     ]
    }
   ],
   "source": [
    "available={\"SUV\":300,\"Sedan\":20,\"Bike\":100,\"Luxary\":5}\n",
    "\n",
    "print(\"Vehicle Available for rent is:'SUV','Sedan','Bike','Luxary'\")\n",
    "\n",
    "class Rental_vehicle:\n",
    "    \n",
    "    def __init__(self,vehicle_type):\n",
    "        self.vehicle_type=vehicle_type\n",
    "        \n",
    "    def vehicle_type(self):\n",
    "        return self.vehicle_type\n",
    "    \n",
    "    def available_vehicle(self):\n",
    "        return available[self.vehicle_type]"
   ]
  },
  {
   "cell_type": "code",
   "execution_count": 9,
   "id": "bbd91233",
   "metadata": {},
   "outputs": [],
   "source": [
    "rent=Rental_vehicle(\"SUV\")"
   ]
  },
  {
   "cell_type": "code",
   "execution_count": 10,
   "id": "03e01263",
   "metadata": {},
   "outputs": [
    {
     "data": {
      "text/plain": [
       "'SUV'"
      ]
     },
     "execution_count": 10,
     "metadata": {},
     "output_type": "execute_result"
    }
   ],
   "source": [
    "rent.vehicle_type"
   ]
  },
  {
   "cell_type": "code",
   "execution_count": 11,
   "id": "f8b08fb8",
   "metadata": {},
   "outputs": [
    {
     "data": {
      "text/plain": [
       "300"
      ]
     },
     "execution_count": 11,
     "metadata": {},
     "output_type": "execute_result"
    }
   ],
   "source": [
    "rent.available_vehicle()"
   ]
  },
  {
   "cell_type": "raw",
   "id": "9efe98d7",
   "metadata": {},
   "source": [
    "Problem 4: Library Catalog Create classes representing a library and a book. Implement methods to add books to the library, borrow books, and display available books."
   ]
  },
  {
   "cell_type": "code",
   "execution_count": 12,
   "id": "dbe433ac",
   "metadata": {},
   "outputs": [],
   "source": [
    "books=['Anna Karenina','To Kill a Mockingbird','Where the Sidewalk Ends','Valley of the Dolls']\n",
    "\n",
    "class Library:\n",
    "    \n",
    "    def __init__(self,add_books,borrow_books):\n",
    "        self.add_books=add_books\n",
    "        self.borrow_books=borrow_books\n",
    "        \n",
    "    def add_new_book(self):\n",
    "        books.insert(-1,self.add_books)\n",
    "        return books\n",
    "    \n",
    "    def borrow_books(self):\n",
    "        return borrow_books\n",
    "    \n",
    "    def available_books(self):\n",
    "        return books"
   ]
  },
  {
   "cell_type": "code",
   "execution_count": 13,
   "id": "c1749876",
   "metadata": {},
   "outputs": [],
   "source": [
    "lib=Library('Atomic Habits','Anna Karenina')"
   ]
  },
  {
   "cell_type": "code",
   "execution_count": 14,
   "id": "6770a6d3",
   "metadata": {},
   "outputs": [
    {
     "data": {
      "text/plain": [
       "['Anna Karenina',\n",
       " 'To Kill a Mockingbird',\n",
       " 'Where the Sidewalk Ends',\n",
       " 'Atomic Habits',\n",
       " 'Valley of the Dolls']"
      ]
     },
     "execution_count": 14,
     "metadata": {},
     "output_type": "execute_result"
    }
   ],
   "source": [
    "lib.add_new_book()"
   ]
  },
  {
   "cell_type": "code",
   "execution_count": 15,
   "id": "6ab418dc",
   "metadata": {},
   "outputs": [
    {
     "data": {
      "text/plain": [
       "['Anna Karenina',\n",
       " 'To Kill a Mockingbird',\n",
       " 'Where the Sidewalk Ends',\n",
       " 'Atomic Habits',\n",
       " 'Valley of the Dolls']"
      ]
     },
     "execution_count": 15,
     "metadata": {},
     "output_type": "execute_result"
    }
   ],
   "source": [
    "lib.available_books()"
   ]
  },
  {
   "cell_type": "raw",
   "id": "77b2d7d6",
   "metadata": {},
   "source": [
    "Problem 5: Product Inventory Create classes representing a product and an inventory system. Implement methods to add products to the inventory, update product quantity, and display available products."
   ]
  },
  {
   "cell_type": "code",
   "execution_count": 16,
   "id": "96841cdf",
   "metadata": {},
   "outputs": [],
   "source": [
    "product_inventory=['Electronic','Car','Clothes','Meat Factory']\n",
    "class inventory:  \n",
    "    \n",
    "    def __init__(self,add_product,update_product):\n",
    "        self.add_product=add_product\n",
    "        self.update_product=update_product       \n",
    "        \n",
    "    def add_product_inventory(self):\n",
    "        product_inventory.insert(-1,self.add_product)\n",
    "        return product_inventory\n",
    "    \n",
    "    def update_product_inventory(self):\n",
    "        product_inventory.insert(-1,self.update_product)\n",
    "        return product_inventory\n",
    "    \n",
    "    def available_product_inventory(self):\n",
    "        return f\"Updated Product in Inventory are {product_inventory}\""
   ]
  },
  {
   "cell_type": "code",
   "execution_count": 17,
   "id": "984f792b",
   "metadata": {},
   "outputs": [],
   "source": [
    "product=inventory('Fish Product','Hardware Product')"
   ]
  },
  {
   "cell_type": "code",
   "execution_count": 18,
   "id": "43ac4d15",
   "metadata": {},
   "outputs": [
    {
     "data": {
      "text/plain": [
       "['Electronic', 'Car', 'Clothes', 'Fish Product', 'Meat Factory']"
      ]
     },
     "execution_count": 18,
     "metadata": {},
     "output_type": "execute_result"
    }
   ],
   "source": [
    "product.add_product_inventory()"
   ]
  },
  {
   "cell_type": "code",
   "execution_count": 19,
   "id": "f4b4a3f5",
   "metadata": {
    "scrolled": true
   },
   "outputs": [
    {
     "data": {
      "text/plain": [
       "['Electronic',\n",
       " 'Car',\n",
       " 'Clothes',\n",
       " 'Fish Product',\n",
       " 'Hardware Product',\n",
       " 'Meat Factory']"
      ]
     },
     "execution_count": 19,
     "metadata": {},
     "output_type": "execute_result"
    }
   ],
   "source": [
    "product.update_product_inventory()"
   ]
  },
  {
   "cell_type": "code",
   "execution_count": 20,
   "id": "a3042a5e",
   "metadata": {},
   "outputs": [
    {
     "data": {
      "text/plain": [
       "\"Updated Product in Inventory are ['Electronic', 'Car', 'Clothes', 'Fish Product', 'Hardware Product', 'Meat Factory']\""
      ]
     },
     "execution_count": 20,
     "metadata": {},
     "output_type": "execute_result"
    }
   ],
   "source": [
    "product.available_product_inventory()"
   ]
  },
  {
   "cell_type": "code",
   "execution_count": 21,
   "id": "ee051885",
   "metadata": {},
   "outputs": [],
   "source": [
    "books=['Anna Karenina','To Kill a Mockingbird','Where the Sidewalk Ends','Valley of the Dolls']\n",
    "\n",
    "class inventory:\n",
    "    \n",
    "    def __init__(self,add_product,update_product):\n",
    "        self.add_product=add_product\n",
    "        self.update_product=update_product\n",
    "        \n",
    "    def add_product_inventory(self):\n",
    "        books.insert(-1,self.add_product)\n",
    "        return books\n",
    "    \n",
    "    def borrow_books(self):\n",
    "        return borrow_books\n",
    "    \n",
    "    def available_books(self):\n",
    "        return books"
   ]
  },
  {
   "cell_type": "raw",
   "id": "b174a3d6",
   "metadata": {},
   "source": [
    "Problem 6: Shape Calculation Create a class representing a shape with attributes like length, width, and height. Implement methods to calculate the area and perimeter of the shape."
   ]
  },
  {
   "cell_type": "code",
   "execution_count": 22,
   "id": "4e95c4bf",
   "metadata": {},
   "outputs": [],
   "source": [
    "class shape:\n",
    "    def __init__(self,length,width,height):\n",
    "        self.length=length\n",
    "        self.width=width\n",
    "        self.height=height\n",
    "        \n",
    "    def area(self):\n",
    "        return self.length*self.width\n",
    "    \n",
    "    def parameter(self):\n",
    "        return 2*(self.length+self.width)"
   ]
  },
  {
   "cell_type": "code",
   "execution_count": 23,
   "id": "7a066fb0",
   "metadata": {},
   "outputs": [],
   "source": [
    "my_shape=shape(5,5,5)"
   ]
  },
  {
   "cell_type": "code",
   "execution_count": 24,
   "id": "b77c1962",
   "metadata": {},
   "outputs": [
    {
     "data": {
      "text/plain": [
       "25"
      ]
     },
     "execution_count": 24,
     "metadata": {},
     "output_type": "execute_result"
    }
   ],
   "source": [
    "my_shape.area()"
   ]
  },
  {
   "cell_type": "code",
   "execution_count": 25,
   "id": "e3fa61c1",
   "metadata": {},
   "outputs": [
    {
     "data": {
      "text/plain": [
       "20"
      ]
     },
     "execution_count": 25,
     "metadata": {},
     "output_type": "execute_result"
    }
   ],
   "source": [
    "my_shape.parameter()"
   ]
  },
  {
   "cell_type": "raw",
   "id": "8c9f4162",
   "metadata": {},
   "source": [
    "Problem 7: Student Management Create a class representing a student with attributes like student ID, name, and grades. Implement methods to calculate the average grade and display student details."
   ]
  },
  {
   "cell_type": "code",
   "execution_count": 26,
   "id": "4da3cf57",
   "metadata": {},
   "outputs": [],
   "source": [
    "class student_grade:\n",
    "    def __init__(self,student_id,student_name,student_grades):\n",
    "        self.student_id=student_id\n",
    "        self.student_name=student_name\n",
    "        self.student_grades=student_grades\n",
    "        \n",
    "    def grade_calculate(self):\n",
    "        if self.student_grades == 'A':\n",
    "               print(f\"Student {self.student_name} Student ID is {self.student_id} is Very Good in study\")\n",
    "            \n",
    "        elif self.student_grades == 'B':\n",
    "               print(f\"Student {self.student_name} Student ID is {self.student_id} is Good in study\")\n",
    "            \n",
    "        elif self.student_grades == 'C':\n",
    "               print(f\"Student {self.student_name} Student ID is {self.student_id} is Average in study\")\n",
    "            \n",
    "        elif self.student_grades == 'D':\n",
    "               print(f\"Student {self.student_name} Student ID is {self.student_id} is Poor in study\")            "
   ]
  },
  {
   "cell_type": "code",
   "execution_count": 27,
   "id": "d8784343",
   "metadata": {},
   "outputs": [],
   "source": [
    "student_info=student_grade('2125CE1035','Uttkarsh Sahai','C')"
   ]
  },
  {
   "cell_type": "code",
   "execution_count": 28,
   "id": "aed45e6a",
   "metadata": {},
   "outputs": [
    {
     "name": "stdout",
     "output_type": "stream",
     "text": [
      "Student Uttkarsh Sahai Student ID is 2125CE1035 is Average in study\n"
     ]
    }
   ],
   "source": [
    "student_info.grade_calculate()"
   ]
  },
  {
   "cell_type": "raw",
   "id": "5a553894",
   "metadata": {},
   "source": [
    "Problem 8: Email Management Create a class representing an email with attributes like sender, recipient, and subject. Implement methods to send an email and display email details."
   ]
  },
  {
   "cell_type": "code",
   "execution_count": 29,
   "id": "0b1ff376",
   "metadata": {},
   "outputs": [],
   "source": [
    "class email_management:\n",
    "    \n",
    "    def __init__(self,sender,recipient,subject):\n",
    "        self.sender=sender\n",
    "        self.recipient=recipient\n",
    "        self.subject=subject\n",
    "        \n",
    "    def sent_email(self):\n",
    "        return f\"From {self.sender} To {self.recipient} Subject {self.subject} Thank you! Your Obediently Uttkarsh Sahai\""
   ]
  },
  {
   "cell_type": "code",
   "execution_count": 30,
   "id": "f560fcb0",
   "metadata": {},
   "outputs": [],
   "source": [
    "email=email_management(\"Uttkarsh Sahai\",\"HOD Sir\",\"For Medical Leave\")"
   ]
  },
  {
   "cell_type": "code",
   "execution_count": 31,
   "id": "eab47ecd",
   "metadata": {},
   "outputs": [
    {
     "data": {
      "text/plain": [
       "'From Uttkarsh Sahai To HOD Sir Subject For Medical Leave Thank you! Your Obediently Uttkarsh Sahai'"
      ]
     },
     "execution_count": 31,
     "metadata": {},
     "output_type": "execute_result"
    }
   ],
   "source": [
    "email.sent_email()"
   ]
  },
  {
   "cell_type": "raw",
   "id": "45cccbd4",
   "metadata": {},
   "source": [
    "Problem 9: Social Media Profile Create a class representing a social media profile with attributes like username and posts. Implement methods to add posts, display posts, and search for posts by keyword."
   ]
  },
  {
   "cell_type": "code",
   "execution_count": 32,
   "id": "91b07518",
   "metadata": {},
   "outputs": [
    {
     "name": "stdout",
     "output_type": "stream",
     "text": [
      "Posts by JohnDoe:\n",
      "1. Just had a great lunch with friends!\n",
      "2. Enjoying a beautiful sunset at the beach.\n",
      "3. Learning Python programming is fun.\n",
      "Posts by JohnDoe containing the keyword 'fun':\n",
      "1. Learning Python programming is fun.\n"
     ]
    }
   ],
   "source": [
    "class SocialMediaProfile:\n",
    "    def __init__(self, username):\n",
    "        self.username = username\n",
    "        self.posts = []\n",
    "\n",
    "    def add_post(self, content):\n",
    "        \"\"\"Add a new post to the profile.\"\"\"\n",
    "        self.posts.append(content)\n",
    "\n",
    "    def display_posts(self):\n",
    "        \"\"\"Display all posts in the profile.\"\"\"\n",
    "        if not self.posts:\n",
    "            print(f\"{self.username}'s profile has no posts.\")\n",
    "        else:\n",
    "            print(f\"Posts by {self.username}:\")\n",
    "            for i, post in enumerate(self.posts, start=1):\n",
    "                print(f\"{i}. {post}\")\n",
    "\n",
    "    def search_posts(self, keyword):\n",
    "        \"\"\"Search for posts containing a specific keyword.\"\"\"\n",
    "        matching_posts = [post for post in self.posts if keyword in post]\n",
    "        if not matching_posts:\n",
    "            print(f\"No posts containing the keyword '{keyword}' found in {self.username}'s profile.\")\n",
    "        else:\n",
    "            print(f\"Posts by {self.username} containing the keyword '{keyword}':\")\n",
    "            for i, post in enumerate(matching_posts, start=1):\n",
    "                print(f\"{i}. {post}\")\n",
    "\n",
    "# Example usage:\n",
    "if __name__ == \"__main__\":\n",
    "    profile = SocialMediaProfile(\"JohnDoe\")\n",
    "    profile.add_post(\"Just had a great lunch with friends!\")\n",
    "    profile.add_post(\"Enjoying a beautiful sunset at the beach.\")\n",
    "    profile.add_post(\"Learning Python programming is fun.\")\n",
    "\n",
    "    profile.display_posts()\n",
    "\n",
    "    keyword = \"fun\"\n",
    "    profile.search_posts(keyword)\n"
   ]
  },
  {
   "cell_type": "raw",
   "id": "7a6380fc",
   "metadata": {},
   "source": [
    "Problem 10: ToDo List Create a class representing a ToDo list with attributes like tasks and due dates. Implement methods to add tasks, mark tasks as completed, and display pending tasks."
   ]
  },
  {
   "cell_type": "code",
   "execution_count": 33,
   "id": "a426f675",
   "metadata": {},
   "outputs": [],
   "source": [
    "class todo_list:\n",
    "    \n",
    "    def __init__(self,add_task,mark_task_complete,display_pending_task,due_data):\n",
    "        self.add_task=add_task\n",
    "        self.mark_task_complete=mark_task_complete\n",
    "        self.display_pending_task=display_pending_task\n",
    "        self.due_data=due_data\n",
    "        \n",
    "    def add_task_todo(self):\n",
    "        return f\"Add a task {self.add_task} which should be completed within the {self.due_data}\"\n",
    "    \n",
    "    def mark_task_complete_todo(self):\n",
    "        return f\"Successfully Completed the task {self.add_task}\"\n",
    "    \n",
    "    def display_pending_task_todo(self):\n",
    "        return f\"Complete the task {self.add_task} within the due data {self.due_data}\""
   ]
  },
  {
   "cell_type": "code",
   "execution_count": 34,
   "id": "488058ae",
   "metadata": {},
   "outputs": [],
   "source": [
    "todo=todo_list('Complete PWSkills Oops Assignment','PWSkills Assignment','5 Question on LeetCode','05-december-2023')"
   ]
  },
  {
   "cell_type": "code",
   "execution_count": 35,
   "id": "760b758e",
   "metadata": {},
   "outputs": [
    {
     "data": {
      "text/plain": [
       "'Add a task Complete PWSkills Oops Assignment which should be completed within the 05-december-2023'"
      ]
     },
     "execution_count": 35,
     "metadata": {},
     "output_type": "execute_result"
    }
   ],
   "source": [
    "todo.add_task_todo()"
   ]
  },
  {
   "cell_type": "code",
   "execution_count": 36,
   "id": "795b4522",
   "metadata": {},
   "outputs": [
    {
     "data": {
      "text/plain": [
       "'Complete the task Complete PWSkills Oops Assignment within the due data 05-december-2023'"
      ]
     },
     "execution_count": 36,
     "metadata": {},
     "output_type": "execute_result"
    }
   ],
   "source": [
    "todo.display_pending_task_todo()"
   ]
  },
  {
   "cell_type": "code",
   "execution_count": 37,
   "id": "5e974d99",
   "metadata": {},
   "outputs": [
    {
     "data": {
      "text/plain": [
       "'Successfully Completed the task Complete PWSkills Oops Assignment'"
      ]
     },
     "execution_count": 37,
     "metadata": {},
     "output_type": "execute_result"
    }
   ],
   "source": [
    "todo.mark_task_complete_todo()"
   ]
  }
 ],
 "metadata": {
  "kernelspec": {
   "display_name": "Python 3 (ipykernel)",
   "language": "python",
   "name": "python3"
  },
  "language_info": {
   "codemirror_mode": {
    "name": "ipython",
    "version": 3
   },
   "file_extension": ".py",
   "mimetype": "text/x-python",
   "name": "python",
   "nbconvert_exporter": "python",
   "pygments_lexer": "ipython3",
   "version": "3.9.16"
  }
 },
 "nbformat": 4,
 "nbformat_minor": 5
}
